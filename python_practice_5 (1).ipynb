{
 "nbformat": 4,
 "nbformat_minor": 0,
 "metadata": {
  "colab": {
   "provenance": []
  },
  "kernelspec": {
   "name": "python3",
   "display_name": "Python 3"
  },
  "language_info": {
   "name": "python"
  }
 },
 "cells": [
  {
   "cell_type": "markdown",
   "source": [
    "# I. OOP"
   ],
   "metadata": {
    "id": "5qV_sehzFCTp"
   }
  },
  {
   "cell_type": "markdown",
   "source": [
    "1. (6б). Створіть клас Animal, додайте три атрибути, один з яких має значення за замовчуванням та два методи на свій розсуд."
   ],
   "metadata": {
    "id": "tx_U_hOALyfg"
   }
  },
  {
   "cell_type": "code",
   "source": [
    "class Animal:\n",
    "    def __init__(self, type_of_animal, is_predator, endangered_species = False):\n",
    "        self.type_of_animal = type_of_animal\n",
    "        self.is_predator = is_predator\n",
    "        self.endangered_species = endangered_species\n",
    "\n",
    "    def is_eating_meat(self):\n",
    "        return self.is_predator\n",
    "\n",
    "    def is_protected_by_law(self):\n",
    "        return self.endangered_species\n"
   ],
   "metadata": {
    "id": "-Vf895KaL88N"
   },
   "execution_count": null,
   "outputs": []
  },
  {
   "cell_type": "markdown",
   "source": [
    "2. (2б). Створіть два обʼєкти цього класу, де один з обʼєктів створюється із дефолтним значенням атрибуту. На одному обʼєкті отримайте значення його атрибуту, а на іншому викличте один з його методів."
   ],
   "metadata": {
    "id": "X_UlOMB0L93w"
   }
  },
  {
   "cell_type": "code",
   "source": [
    "chiken = Animal('chiken', False)\n",
    "print('is chiken predator', chiken.is_predator)\n",
    "white_lion = Animal('white lion', True, True)\n",
    "print('is white lion protected by law', white_lion.is_protected_by_law())"
   ],
   "metadata": {
    "id": "7gBu0ESOMCpG",
    "colab": {
     "base_uri": "https://localhost:8080/"
    },
    "outputId": "930b9e4f-e701-4d17-f47b-3a54b0e39f9c"
   },
   "execution_count": null,
   "outputs": [
    {
     "output_type": "stream",
     "name": "stdout",
     "text": [
      "is chiken predator False\n",
      "is white lion protected by law True\n"
     ]
    }
   ]
  },
  {
   "cell_type": "markdown",
   "source": [
    "3. (5б). Створіть клас, де атрибути мають різні рівні доступу. Спробуйте отримати їхні значення та опишіть результати."
   ],
   "metadata": {
    "id": "HoqSCZt1MHn5"
   }
  },
  {
   "cell_type": "code",
   "source": [
    "class Student:\n",
    "    def __init__(self, name, surname,  avr_grade):\n",
    "        self._name = name\n",
    "        self.surname = surname\n",
    "        self.__avr_grade = avr_grade\n",
    "\n",
    "\n",
    "student_first = Student('Ann', 'Chyb', 100)\n",
    "print(student_first._name)\n",
    "print(student_first.surname)\n",
    "print(student_first.__avr_grade)"
   ],
   "metadata": {
    "id": "r9b3vJxBMSPV",
    "colab": {
     "base_uri": "https://localhost:8080/",
     "height": 211
    },
    "outputId": "8b978536-2c3d-43c4-8402-47ce0c0ed9c8"
   },
   "execution_count": null,
   "outputs": [
    {
     "output_type": "stream",
     "name": "stdout",
     "text": [
      "Ann\n",
      "Chyb\n"
     ]
    },
    {
     "output_type": "error",
     "ename": "AttributeError",
     "evalue": "'Student' object has no attribute '__avr_grade'",
     "traceback": [
      "\u001B[0;31m---------------------------------------------------------------------------\u001B[0m",
      "\u001B[0;31mAttributeError\u001B[0m                            Traceback (most recent call last)",
      "\u001B[0;32m<ipython-input-4-04236c394418>\u001B[0m in \u001B[0;36m<cell line: 11>\u001B[0;34m()\u001B[0m\n\u001B[1;32m      9\u001B[0m \u001B[0mprint\u001B[0m\u001B[0;34m(\u001B[0m\u001B[0mstudent_first\u001B[0m\u001B[0;34m.\u001B[0m\u001B[0m_name\u001B[0m\u001B[0;34m)\u001B[0m\u001B[0;34m\u001B[0m\u001B[0;34m\u001B[0m\u001B[0m\n\u001B[1;32m     10\u001B[0m \u001B[0mprint\u001B[0m\u001B[0;34m(\u001B[0m\u001B[0mstudent_first\u001B[0m\u001B[0;34m.\u001B[0m\u001B[0msurname\u001B[0m\u001B[0;34m)\u001B[0m\u001B[0;34m\u001B[0m\u001B[0;34m\u001B[0m\u001B[0m\n\u001B[0;32m---> 11\u001B[0;31m \u001B[0mprint\u001B[0m\u001B[0;34m(\u001B[0m\u001B[0mstudent_first\u001B[0m\u001B[0;34m.\u001B[0m\u001B[0m__avr_grade\u001B[0m\u001B[0;34m)\u001B[0m\u001B[0;34m\u001B[0m\u001B[0;34m\u001B[0m\u001B[0m\n\u001B[0m",
      "\u001B[0;31mAttributeError\u001B[0m: 'Student' object has no attribute '__avr_grade'"
     ]
    }
   ]
  },
  {
   "cell_type": "markdown",
   "source": [
    "Якщо атрибут не має нижніх підкреслень на початку назви, то це звичайний атрибут, до якого можна легко доступитися ззовні класу.\n",
    "Якщо атрибут має одне нижнє підкреслень на початку назви, до нього всеодно можна легко доступитися ззовні класу, хоча за домовленістю так позначаються protected атрибути (тобто, якщо ти бачиш атрибут що починається на одне нижнє підкреслення, то цей атрибут краще не чіпати).\n",
    "Якщо атрибут починається з двох нижніх підкреслень, то він є приватним і до нього не можна доступитися ззовні класу.\n"
   ],
   "metadata": {
    "id": "0wAfgumKB07x"
   }
  },
  {
   "cell_type": "markdown",
   "source": [
    "4. (7б). Як ви розумієте термін self? Для чого використовується метод __init __?"
   ],
   "metadata": {
    "id": "5op2m2vgMSkZ"
   }
  },
  {
   "cell_type": "markdown",
   "source": [
    "Параметр self(в принципі це не обов'язково має бути self просто це загальноприйнята практика, можна назвати по іншому, але це повинен бути перший параметр в усіх функціях класу) є посиланням на поточний екземпляр класу та використовується для доступу до змінних, які належать до класу. Метод __init __, завжди виконується, коли клас ініціюється. Його задача ініціалізувати атрибути класу та за потреби виконати інші операції необхідні для налаштування об'єкта."
   ],
   "metadata": {
    "id": "DyiPqNRvMasx"
   }
  },
  {
   "cell_type": "markdown",
   "source": [
    "5. (9б). Створіть клас Фігура без атрибутів, з методом get_area для отримання площі фігури, що повертає 0 та __add __, який приймає self та other в якості аргументів, а повертає суму площин фігур self та other."
   ],
   "metadata": {
    "id": "-6X8EGfjMd2y"
   }
  },
  {
   "cell_type": "code",
   "source": [
    "class Figure:\n",
    "    def __init__(self):\n",
    "        pass\n",
    "\n",
    "    def get_area(self):\n",
    "        return 0\n",
    "\n",
    "    def __add__(self, other):\n",
    "        return self.get_area() + other.get_area()\n",
    "\n",
    "\n",
    "f1 = Figure()\n",
    "f2 = Figure()\n",
    "print(f1.get_area())\n",
    "print(f1+f2)"
   ],
   "metadata": {
    "id": "4rvO_wYUMaEr",
    "colab": {
     "base_uri": "https://localhost:8080/"
    },
    "outputId": "b2e2decf-1047-4b06-b857-b63679b2430c"
   },
   "execution_count": null,
   "outputs": [
    {
     "output_type": "stream",
     "name": "stdout",
     "text": [
      "0\n",
      "0\n"
     ]
    }
   ]
  },
  {
   "cell_type": "markdown",
   "source": [
    "6. (11б). Створіть 2 дочірніх класи від Фігури: Трикутник та Коло, які мають атрибути, необхідні для розрахунку площин. Визначте метод get_area в кожному з них так, щоби вони розраховували площу в залежності від формули для кожного типу фігури. Створіть обʼєкт класу Трикутник та обʼєкт класу Коло. Виконайте операцію суми за допомогою оператора + між ними."
   ],
   "metadata": {
    "id": "SFcKnnv5Mo_z"
   }
  },
  {
   "cell_type": "code",
   "source": [
    "import math\n",
    "\n",
    "class Triangle(Figure):\n",
    "    def __init__(self, a, b, c):\n",
    "        self.a = a\n",
    "        self.b = b\n",
    "        self.c = c\n",
    "\n",
    "    def get_area(self):\n",
    "        p = (self.a+self.b+self.c)/2\n",
    "        return (p*(p-self.a)*(p-self.b)*(p-self.c))**0.5\n",
    "\n",
    "\n",
    "class Circle(Figure):\n",
    "    def __init__(self, r):\n",
    "        self.r = r\n",
    "\n",
    "    def get_area(self):\n",
    "        return math.pi*(self.r**2)\n",
    "\n",
    "\n",
    "triangle = Triangle(3, 4, 5)\n",
    "circle = Circle(1)\n",
    "print(triangle.get_area())\n",
    "print(circle.get_area())\n",
    "triangle+circle"
   ],
   "metadata": {
    "id": "H3GVNr69Muf3",
    "colab": {
     "base_uri": "https://localhost:8080/"
    },
    "outputId": "e8fbed15-ecf2-422f-9e84-5ab03a8dee9b"
   },
   "execution_count": null,
   "outputs": [
    {
     "output_type": "stream",
     "name": "stdout",
     "text": [
      "6.0\n",
      "3.141592653589793\n"
     ]
    },
    {
     "output_type": "execute_result",
     "data": {
      "text/plain": [
       "9.141592653589793"
      ]
     },
     "metadata": {},
     "execution_count": 12
    }
   ]
  },
  {
   "cell_type": "markdown",
   "source": [
    "7. (3б). Продемонструйте різницю між isinstance та issubclass."
   ],
   "metadata": {
    "id": "HCvR206YMvLK"
   }
  },
  {
   "cell_type": "code",
   "source": [
    "print(isinstance(triangle, Triangle)) # isinstance перевіряє чи є об'єкт екземпляром певного класу, перший аргумент це об'єкт\n",
    "print(isinstance(circle, Triangle))\n",
    "print(issubclass(Circle, Triangle)) # issubclass перевіряє чи є клас підкласом певного класу, перший аргумент це клас\n",
    "print(issubclass(Circle, Figure))"
   ],
   "metadata": {
    "id": "L_V1bBvDM0GN",
    "colab": {
     "base_uri": "https://localhost:8080/"
    },
    "outputId": "4e703d26-7ac7-4709-a8a8-2c3a52719e49"
   },
   "execution_count": null,
   "outputs": [
    {
     "output_type": "stream",
     "name": "stdout",
     "text": [
      "True\n",
      "False\n",
      "False\n",
      "True\n"
     ]
    }
   ]
  },
  {
   "cell_type": "markdown",
   "source": [
    "8. (13б). Створіть клас BankAccount з приватними атрибутами balance та account_number. Реалізуйте методи поповнення та зняття коштів, забезпечивши належну інкапсуляцію. Підказка: використовуйте декоратори property та setter."
   ],
   "metadata": {
    "id": "jjsaBZ-iM0Qq"
   }
  },
  {
   "cell_type": "code",
   "source": [
    "class BankAccount:\n",
    "    def __init__(self, account_number, balance=0):\n",
    "        self.__account_number = account_number\n",
    "        self.__balance = balance\n",
    "\n",
    "    @property\n",
    "    def account_number(self):\n",
    "        return self.__account_number\n",
    "\n",
    "    @property\n",
    "    def balance(self):\n",
    "        return self.__balance\n",
    "\n",
    "    @balance.setter\n",
    "    def balance(self, value):\n",
    "        if isinstance(value, int) or isinstance(value, float):\n",
    "            self.__balance = value\n",
    "\n",
    "    def addToBalance(self, value):\n",
    "        if(value<=0):\n",
    "            print(f'We cannot add {value} to the balance')\n",
    "            return\n",
    "        newBalance = self.balance+value\n",
    "        self.balance = newBalance\n",
    "        return self.balance\n",
    "\n",
    "    def removeFromBalence(self, value):\n",
    "        if(value<=0):\n",
    "            print(f'We cannot remove {value} from the balance')\n",
    "            return\n",
    "        newBalance = self.balance-value\n",
    "        self.balance = newBalance\n",
    "        return self.balance\n",
    "\n",
    "myAccount = BankAccount(17)\n",
    "print(myAccount.account_number)\n",
    "myAccount.addToBalance(-5)\n",
    "print(myAccount.addToBalance(100))\n",
    "myAccount.removeFromBalence(-5)\n",
    "print(myAccount.removeFromBalence(105)) #я дозволяю заходити в кредит)"
   ],
   "metadata": {
    "id": "xCvZ7lh8M7YA",
    "colab": {
     "base_uri": "https://localhost:8080/"
    },
    "outputId": "854f2814-dbec-49fc-87de-f49294e200f3"
   },
   "execution_count": 7,
   "outputs": [
    {
     "output_type": "stream",
     "name": "stdout",
     "text": [
      "17\n",
      "We cannot add -5 to the balance\n",
      "100\n",
      "We cannot remove -5 from the balance\n",
      "-5\n"
     ]
    }
   ]
  },
  {
   "cell_type": "markdown",
   "source": [
    "9. (11б). Створіть клас Library, який містить список об'єктів типу Book. Реалізуйте методи для додавання книги, видалення книги та відображення списку книг."
   ],
   "metadata": {
    "id": "tIzL2SJTM8ft"
   }
  },
  {
   "cell_type": "code",
   "source": [
    "class Book:\n",
    "    def __init__(self, name, author, year_of_publication):\n",
    "        self.name = name\n",
    "        self.author = author\n",
    "        self.year_of_publication = year_of_publication\n",
    "\n",
    "    def __str__(self):\n",
    "        return f'Book: {self.name}\\nAuthor: {self.author}\\nYear of Publication: {self.year_of_publication}'\n",
    "\n",
    "\n",
    "class Library:\n",
    "    def __init__(self, books):\n",
    "        self.books = books\n",
    "\n",
    "    def add_new_book(self, book):\n",
    "        self.books.append(book)\n",
    "\n",
    "    def remove_book(self, book):\n",
    "        self.books.remove(book)\n",
    "\n",
    "    def all_library(self):\n",
    "        for i, book in enumerate(self.books):\n",
    "            print(i+1,book)\n",
    "\n",
    "\n",
    "book1 = Book('Philosopher\\'s Stone', 'J. K. Rowling', 1997)\n",
    "book2 = Book('Chamber of Secrets', 'J. K. Rowling', 1998)\n",
    "book3 = Book('Prisoner of Azkaban', 'J. K. Rowling', 1999)\n",
    "book4 = Book('Goblet of Fire', 'J. K. Rowling', 2000)\n",
    "book5 = Book('Order of the Phoenix', 'J. K. Rowling', 2003)\n",
    "book6 = Book('Half-Blood Prince', 'J. K. Rowling', 2005)\n",
    "library = Library([book1, book2, book3, book4, book5])\n",
    "library.all_library()\n",
    "library.add_new_book(book6)\n",
    "print()\n",
    "library.all_library()\n",
    "library.remove_book(book3)\n",
    "print()\n",
    "library.all_library()"
   ],
   "metadata": {
    "id": "HWxfJKLtNAUZ",
    "colab": {
     "base_uri": "https://localhost:8080/"
    },
    "outputId": "7828553d-ffc2-445e-a94f-58c5ee457425"
   },
   "execution_count": 10,
   "outputs": [
    {
     "output_type": "stream",
     "name": "stdout",
     "text": [
      "1 Book: Philosopher's Stone\n",
      "Author: J. K. Rowling\n",
      "Year of Publication: 1997\n",
      "2 Book: Chamber of Secrets\n",
      "Author: J. K. Rowling\n",
      "Year of Publication: 1998\n",
      "3 Book: Prisoner of Azkaban\n",
      "Author: J. K. Rowling\n",
      "Year of Publication: 1999\n",
      "4 Book: Goblet of Fire\n",
      "Author: J. K. Rowling\n",
      "Year of Publication: 2000\n",
      "5 Book: Order of the Phoenix\n",
      "Author: J. K. Rowling\n",
      "Year of Publication: 2003\n",
      "\n",
      "1 Book: Philosopher's Stone\n",
      "Author: J. K. Rowling\n",
      "Year of Publication: 1997\n",
      "2 Book: Chamber of Secrets\n",
      "Author: J. K. Rowling\n",
      "Year of Publication: 1998\n",
      "3 Book: Prisoner of Azkaban\n",
      "Author: J. K. Rowling\n",
      "Year of Publication: 1999\n",
      "4 Book: Goblet of Fire\n",
      "Author: J. K. Rowling\n",
      "Year of Publication: 2000\n",
      "5 Book: Order of the Phoenix\n",
      "Author: J. K. Rowling\n",
      "Year of Publication: 2003\n",
      "6 Book: Half-Blood Prince\n",
      "Author: J. K. Rowling\n",
      "Year of Publication: 2005\n",
      "\n",
      "1 Book: Philosopher's Stone\n",
      "Author: J. K. Rowling\n",
      "Year of Publication: 1997\n",
      "2 Book: Chamber of Secrets\n",
      "Author: J. K. Rowling\n",
      "Year of Publication: 1998\n",
      "3 Book: Goblet of Fire\n",
      "Author: J. K. Rowling\n",
      "Year of Publication: 2000\n",
      "4 Book: Order of the Phoenix\n",
      "Author: J. K. Rowling\n",
      "Year of Publication: 2003\n",
      "5 Book: Half-Blood Prince\n",
      "Author: J. K. Rowling\n",
      "Year of Publication: 2005\n"
     ]
    }
   ]
  },
  {
   "cell_type": "markdown",
   "source": [
    "10. (13б). Створіть клас Person з атрибутами name та age. Створіть ще один клас Employee з такими атрибутами, як department та salary. Створіть клас Manager, який успадковує обидва класи Person та Employee. Продемонструйте використання множинної спадковості, створивши обʼєкт класу Manager та отримавши mro для цього класу."
   ],
   "metadata": {
    "id": "lmV8pAwwNIqu"
   }
  },
  {
   "cell_type": "code",
   "source": [
    "class Person:\n",
    "    def __init__(self, name, age):\n",
    "        self.name = name\n",
    "        self.age = age\n",
    "\n",
    "\n",
    "class Employee:\n",
    "    def __init__(self, department, salary):\n",
    "        self.department = department\n",
    "        self.salary = salary\n",
    "\n",
    "class Manager(Person, Employee):\n",
    "    def __init__(self, name, age, department, salary):\n",
    "        Person.__init__(self, name, age)\n",
    "        Employee.__init__(self, department, salary)\n",
    "\n",
    "    def show(self):\n",
    "        print(f'Name: {self.name}\\nAge: {self.age}\\nDepartment: {self.department}\\nSalary: {self.salary}')\n",
    "\n",
    "\n",
    "manager = Manager('Sergiy', 30, 'financial', 30000)\n",
    "manager.show()\n",
    "Manager.mro()"
   ],
   "metadata": {
    "id": "R49grKlWNPeN",
    "colab": {
     "base_uri": "https://localhost:8080/"
    },
    "outputId": "d89bb94a-644a-431a-e971-6a6f1df08284"
   },
   "execution_count": 12,
   "outputs": [
    {
     "output_type": "stream",
     "name": "stdout",
     "text": [
      "Name: Sergiy\n",
      "Age: 30\n",
      "Department: financial\n",
      "Salary: 30000\n"
     ]
    },
    {
     "output_type": "execute_result",
     "data": {
      "text/plain": [
       "[__main__.Manager, __main__.Person, __main__.Employee, object]"
      ]
     },
     "metadata": {},
     "execution_count": 12
    }
   ]
  },
  {
   "cell_type": "markdown",
   "source": [
    "# II. Iterator"
   ],
   "metadata": {
    "id": "dIJyUiNBFG8G"
   }
  },
  {
   "cell_type": "markdown",
   "source": [
    "11. (4б). Визначте рядок(str) з 4ма різними за значенням символами. Створіть ітератор на основі цього рядка. Викличте 5 разів функцію next на ітераторі, 4ри перших з них огорніть у ф-цію print()."
   ],
   "metadata": {
    "id": "13vsm0NyKIzL"
   }
  },
  {
   "cell_type": "code",
   "source": [
    "my_str = str('s7&+')\n",
    "iter_from_str = iter(my_str)\n",
    "for i in range(4):\n",
    "    print(next(iter_from_str))\n",
    "next(iter_from_str)"
   ],
   "metadata": {
    "id": "81ntabAkKuz-",
    "colab": {
     "base_uri": "https://localhost:8080/",
     "height": 245
    },
    "outputId": "a8e10393-9969-4420-d51a-ff966f459dd7"
   },
   "execution_count": 14,
   "outputs": [
    {
     "output_type": "stream",
     "name": "stdout",
     "text": [
      "s\n",
      "7\n",
      "&\n",
      "+\n"
     ]
    },
    {
     "output_type": "error",
     "ename": "StopIteration",
     "evalue": "",
     "traceback": [
      "\u001B[0;31m---------------------------------------------------------------------------\u001B[0m",
      "\u001B[0;31mStopIteration\u001B[0m                             Traceback (most recent call last)",
      "\u001B[0;32m<ipython-input-14-2f30358ca977>\u001B[0m in \u001B[0;36m<cell line: 5>\u001B[0;34m()\u001B[0m\n\u001B[1;32m      3\u001B[0m \u001B[0;32mfor\u001B[0m \u001B[0mi\u001B[0m \u001B[0;32min\u001B[0m \u001B[0mrange\u001B[0m\u001B[0;34m(\u001B[0m\u001B[0;36m4\u001B[0m\u001B[0;34m)\u001B[0m\u001B[0;34m:\u001B[0m\u001B[0;34m\u001B[0m\u001B[0;34m\u001B[0m\u001B[0m\n\u001B[1;32m      4\u001B[0m     \u001B[0mprint\u001B[0m\u001B[0;34m(\u001B[0m\u001B[0mnext\u001B[0m\u001B[0;34m(\u001B[0m\u001B[0miter_from_str\u001B[0m\u001B[0;34m)\u001B[0m\u001B[0;34m)\u001B[0m\u001B[0;34m\u001B[0m\u001B[0;34m\u001B[0m\u001B[0m\n\u001B[0;32m----> 5\u001B[0;31m \u001B[0mnext\u001B[0m\u001B[0;34m(\u001B[0m\u001B[0miter_from_str\u001B[0m\u001B[0;34m)\u001B[0m\u001B[0;34m\u001B[0m\u001B[0;34m\u001B[0m\u001B[0m\n\u001B[0m",
      "\u001B[0;31mStopIteration\u001B[0m: "
     ]
    }
   ]
  },
  {
   "cell_type": "markdown",
   "source": [
    "А що якщо викликати цю ж функцію на рядку?"
   ],
   "metadata": {
    "id": "aekWHGXOLRsO"
   }
  },
  {
   "cell_type": "code",
   "source": [
    "next(my_str)"
   ],
   "metadata": {
    "id": "mxATGsErLV1i",
    "colab": {
     "base_uri": "https://localhost:8080/",
     "height": 141
    },
    "outputId": "f4930bbb-2ef5-478b-858c-6e9713e08adf"
   },
   "execution_count": 15,
   "outputs": [
    {
     "output_type": "error",
     "ename": "TypeError",
     "evalue": "'str' object is not an iterator",
     "traceback": [
      "\u001B[0;31m---------------------------------------------------------------------------\u001B[0m",
      "\u001B[0;31mTypeError\u001B[0m                                 Traceback (most recent call last)",
      "\u001B[0;32m<ipython-input-15-b507c466c498>\u001B[0m in \u001B[0;36m<cell line: 1>\u001B[0;34m()\u001B[0m\n\u001B[0;32m----> 1\u001B[0;31m \u001B[0mnext\u001B[0m\u001B[0;34m(\u001B[0m\u001B[0mmy_str\u001B[0m\u001B[0;34m)\u001B[0m\u001B[0;34m\u001B[0m\u001B[0;34m\u001B[0m\u001B[0m\n\u001B[0m",
      "\u001B[0;31mTypeError\u001B[0m: 'str' object is not an iterator"
     ]
    }
   ]
  },
  {
   "cell_type": "markdown",
   "source": [
    " 12. (5б). Опишіть своїми словами в одному реченні, як ви розумієте різницю між ітерабельними обʼєктами та ітераторами (можна на прикладі)."
   ],
   "metadata": {
    "id": "XwtMEopwJ4pH"
   }
  },
  {
   "cell_type": "markdown",
   "source": [
    "Ітерабельний об'єкт - це об'єкт, який має реалізований метод iter(), в нашому випадку це my_str, а ітератор, в нашому випадку iter_from_str - це об'єкт, що безпосередньо здійснює ітерацію і зберігає поточний стан, він має методи __iter __ і __next __."
   ],
   "metadata": {
    "id": "-sHrODc3KFn8"
   }
  },
  {
   "cell_type": "markdown",
   "source": [
    "13. (11б). Створіть клас, що має визначений Iterator Protocol та при кожному виклику next повертає літери англійської абетки, поки вони не вичерпаються."
   ],
   "metadata": {
    "id": "E9qJWmNbK8Gl"
   }
  },
  {
   "cell_type": "code",
   "source": [
    "class Alphabet:\n",
    "    def __init__(self):\n",
    "        self.curr_letter = chr(ord('a')-1)\n",
    "\n",
    "    def __iter__(self):\n",
    "        return self\n",
    "\n",
    "    def __next__(self):\n",
    "        if(ord(self.curr_letter))<ord('z'):\n",
    "            self.curr_letter = chr(ord(self.curr_letter)+1)\n",
    "            return self.curr_letter\n",
    "        raise StopIteration\n",
    "\n",
    "\n",
    "my_iter = Alphabet()\n",
    "for letter in my_iter:\n",
    "    print(letter)"
   ],
   "metadata": {
    "id": "cqx-g_RsLo6I",
    "colab": {
     "base_uri": "https://localhost:8080/"
    },
    "outputId": "316c376f-d447-430f-f5ee-9bd62bdc9898"
   },
   "execution_count": 20,
   "outputs": [
    {
     "output_type": "stream",
     "name": "stdout",
     "text": [
      "a\n",
      "b\n",
      "c\n",
      "d\n",
      "e\n",
      "f\n",
      "g\n",
      "h\n",
      "i\n",
      "j\n",
      "k\n",
      "l\n",
      "m\n",
      "n\n",
      "o\n",
      "p\n",
      "q\n",
      "r\n",
      "s\n",
      "t\n",
      "u\n",
      "v\n",
      "w\n",
      "x\n",
      "y\n",
      "z\n"
     ]
    }
   ]
  },
  {
   "cell_type": "markdown",
   "source": [
    "# Вітаю! Ви велика(ий) молодець, що впоралась(вся). Похваліть себе та побалуйте чимось приємним. Я Вами пишаюся."
   ],
   "metadata": {
    "id": "Z3E3S_s1Fv7-"
   }
  }
 ]
}
